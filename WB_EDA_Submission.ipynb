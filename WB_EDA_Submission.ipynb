{
  "nbformat": 4,
  "nbformat_minor": 0,
  "metadata": {
    "colab": {
      "private_outputs": true,
      "provenance": [],
      "collapsed_sections": [
        "vncDsAP0Gaoa",
        "FJNUwmbgGyua",
        "w6K7xa23Elo4",
        "yQaldy8SH6Dl",
        "PH-0ReGfmX4f",
        "mDgbUHAGgjLW",
        "O_i_v8NEhb9l",
        "HhfV-JJviCcP",
        "Y3lxredqlCYt",
        "3RnN4peoiCZX",
        "x71ZqKXriCWQ",
        "7hBIi_osiCS2",
        "JlHwYmJAmNHm",
        "35m5QtbWiB9F",
        "PoPl-ycgm1ru",
        "H0kj-8xxnORC",
        "nA9Y7ga8ng1Z",
        "PBTbrJXOngz2",
        "u3PMJOP6ngxN",
        "dauF4eBmngu3",
        "bKJF3rekwFvQ",
        "MSa1f5Uengrz",
        "GF8Ens_Soomf",
        "0wOQAZs5pc--",
        "K5QZ13OEpz2H",
        "lQ7QKXXCp7Bj",
        "448CDAPjqfQr",
        "KSlN3yHqYklG",
        "t6dVpIINYklI",
        "ijmpgYnKYklI",
        "-JiQyfWJYklI",
        "EM7whBJCYoAo",
        "fge-S5ZAYoAp",
        "85gYPyotYoAp",
        "RoGjAbkUYoAp",
        "4Of9eVA-YrdM",
        "iky9q4vBYrdO",
        "F6T5p64dYrdO",
        "y-Ehk30pYrdP",
        "bamQiAODYuh1",
        "QHF8YVU7Yuh3",
        "GwzvFGzlYuh3",
        "qYpmQ266Yuh3",
        "OH-pJp9IphqM",
        "bbFf2-_FphqN",
        "_ouA3fa0phqN",
        "Seke61FWphqN",
        "PIIx-8_IphqN",
        "t27r6nlMphqO",
        "r2jJGEOYphqO",
        "b0JNsNcRphqO",
        "BZR9WyysphqO",
        "jj7wYXLtphqO",
        "eZrbJ2SmphqO",
        "rFu4xreNphqO",
        "YJ55k-q6phqO",
        "gCFgpxoyphqP",
        "OVtJsKN_phqQ",
        "lssrdh5qphqQ",
        "U2RJ9gkRphqQ",
        "1M8mcRywphqQ",
        "tgIPom80phqQ",
        "JMzcOPDDphqR",
        "x-EpHcCOp1ci",
        "X_VqEhTip1ck",
        "8zGJKyg5p1ck",
        "PVzmfK_Ep1ck",
        "n3dbpmDWp1ck",
        "ylSl6qgtp1ck",
        "ZWILFDl5p1ck",
        "M7G43BXep1ck",
        "Ag9LCva-p1cl",
        "E6MkPsBcp1cl",
        "2cELzS2fp1cl",
        "3MPXvC8up1cl",
        "NC_X3p0fY2L0",
        "UV0SzAkaZNRQ",
        "YPEH6qLeZNRQ",
        "q29F0dvdveiT",
        "EXh0U9oCveiU",
        "22aHeOlLveiV",
        "JcMwzZxoAimU",
        "8G2x9gOozGDZ",
        "gCX9965dhzqZ",
        "gIfDvo9L0UH2"
      ],
      "include_colab_link": true
    },
    "kernelspec": {
      "name": "python3",
      "display_name": "Python 3"
    },
    "language_info": {
      "name": "python"
    }
  },
  "cells": [
    {
      "cell_type": "markdown",
      "metadata": {
        "id": "view-in-github",
        "colab_type": "text"
      },
      "source": [
        "<a href=\"https://colab.research.google.com/github/ani235/World_Bank_Global_Education_Analysis_EDA/blob/main/WB_EDA_Submission.ipynb\" target=\"_parent\"><img src=\"https://colab.research.google.com/assets/colab-badge.svg\" alt=\"Open In Colab\"/></a>"
      ]
    },
    {
      "cell_type": "markdown",
      "source": [
        "# **Project Name**    - \n",
        "\n"
      ],
      "metadata": {
        "id": "vncDsAP0Gaoa"
      }
    },
    {
      "cell_type": "markdown",
      "source": [
        "##### **Project Type**    - EDA\n",
        "##### **Contribution**    - Individual\n",
        "##### **Team Member 1 -** Aniruddha\n"
      ],
      "metadata": {
        "id": "beRrZCGUAJYm"
      }
    },
    {
      "cell_type": "markdown",
      "source": [
        "# **Project Summary -**"
      ],
      "metadata": {
        "id": "FJNUwmbgGyua"
      }
    },
    {
      "cell_type": "markdown",
      "source": [
        "Introduction:\n",
        "This project aimed to visualize various education indicators to provide policymakers with valuable insights for informed decision-making. By analyzing data related to gross enrollment rates, population demographics, GDP per capita, mortality rates, and regional variations, the project aimed to uncover patterns, trends, and relationships that can guide policy development and resource allocation in the education sector.\n",
        "\n",
        "Methodology:\n",
        "The project utilized a range of data visualization techniques, including scatter plots, line charts, stacked bar charts, bubble charts, choropleth maps, pair plots, correlation heatmaps, histograms, area charts, and pie charts. These visualizations were applied to a diverse set of education indicators, such as enrollment rates at different education levels, population demographics by age group, GDP per capita, and mortality rates among children under five.\n",
        "\n",
        "Findings and Insights:\n",
        "The pair plot and correlation heatmap revealed positive relationships between gross enrollment rates, GDP per capita, and demographic factors. Higher GDP per capita was associated with higher enrollment rates, indicating the importance of economic development in promoting educational opportunities. Additionally, population demographics showed correlations with enrollment rates, suggesting the need for tailored education policies based on age groups.\n",
        "\n",
        "The choropleth maps of population distribution, mortality rates, and age groups offered valuable insights into regional variations. Policymakers could identify regions with higher mortality rates among children under five, highlighting the need for targeted interventions to improve child health and well-being. The maps also revealed variations in population distribution by age group, enabling policymakers to allocate resources more effectively based on the specific needs of different regions.\n",
        "\n",
        "The line chart depicting population growth across regions between 1970 and 2016 highlighted the changing demographic landscape. This information is crucial for policymakers to anticipate future educational requirements and plan for adequate infrastructure, teaching staff, and educational programs to meet the needs of an evolving population.\n",
        "\n",
        "The area chart displaying gross enrollment ratios in primary, secondary, and tertiary education over time allowed policymakers to assess progress and disparities across regions. It provided a visual representation of the improvements made in education, as well as the gaps that still exist, highlighting the need for targeted interventions to ensure equitable access to quality education for all.\n",
        "\n",
        "The bubble chart comparing real GDP per capita, primary enrollment rates, and population size shed light on the relationship between economic development, enrollment rates, and population dynamics. Policymakers could identify regions with lower enrollment rates despite higher GDP per capita, indicating the presence of other barriers to education that need to be addressed.\n",
        "\n",
        "Gender disparities in enrollment were depicted in a line chart comparing gross enrollment ratios in primary education for males and females over time. Policymakers could use this visualization to identify regions and time periods where gender gaps in education exist and develop targeted initiatives to promote gender equality in education.\n",
        "\n",
        "The project also included visualizations such as pie charts depicting the distribution of the population by age group and histograms displaying pupil-teacher ratios in primary education. These visuals provided policymakers with a comprehensive understanding of the demographic composition and resource allocation in the education system.\n",
        "\n",
        "Conclusion:\n",
        "The visualizations presented in this project offer policymakers a wealth of information and insights to inform evidence-based decision-making in the education sector. By visualizing education indicators, population demographics, economic factors, and regional variations, policymakers can identify areas of improvement, allocate resources effectively, address disparities, and design targeted interventions to promote equitable access to quality education for all. The project highlights the power of data visualization in transforming complex education data into actionable insights, ultimately contributing to the development of effective education policies and practices."
      ],
      "metadata": {
        "id": "F6v_1wHtG2nS"
      }
    },
    {
      "cell_type": "markdown",
      "source": [
        "# **GitHub Link -**"
      ],
      "metadata": {
        "id": "w6K7xa23Elo4"
      }
    },
    {
      "cell_type": "markdown",
      "source": [
        "Provide your GitHub Link here."
      ],
      "metadata": {
        "id": "h1o69JH3Eqqn"
      }
    },
    {
      "cell_type": "markdown",
      "source": [
        "# **Problem Statement**\n"
      ],
      "metadata": {
        "id": "yQaldy8SH6Dl"
      }
    },
    {
      "cell_type": "markdown",
      "source": [
        "Analyzing the World Bank Global Education dataset to understand the key factors influencing educational outcomes worldwide and identifying strategies to improve access to quality education for all."
      ],
      "metadata": {
        "id": "DpeJGUA3kjGy"
      }
    },
    {
      "cell_type": "markdown",
      "source": [
        "#### **Define Your Business Objective?**"
      ],
      "metadata": {
        "id": "PH-0ReGfmX4f"
      }
    },
    {
      "cell_type": "markdown",
      "source": [
        "The primary business objective of conducting an exploratory data analysis (EDA) on the World Bank Global Education dataset is to gain actionable insights and evidence-based recommendations to inform decision-making and policy formulation in the field of education. Specifically, the EDA aims to:\n",
        "\n",
        "1. Uncover the key factors and determinants influencing educational outcomes across countries and regions. \n",
        "\n",
        "2. Explore disparities and inequalities in access to quality education based on variables such as gender, income level, and geographic location. This analysis will help identify marginalized groups and devise targeted strategies for inclusive education.\n",
        "\n",
        "3. Investigate temporal trends and patterns in enrollment rates, literacy levels, graduation rates, and other education indicators over time. ."
      ],
      "metadata": {
        "id": "PhDvGCAqmjP1"
      }
    },
    {
      "cell_type": "markdown",
      "source": [
        "# ***Let's Begin !***"
      ],
      "metadata": {
        "id": "O_i_v8NEhb9l"
      }
    },
    {
      "cell_type": "markdown",
      "source": [
        "## ***1. Know Your Data***"
      ],
      "metadata": {
        "id": "HhfV-JJviCcP"
      }
    },
    {
      "cell_type": "markdown",
      "source": [
        "### Import Libraries"
      ],
      "metadata": {
        "id": "Y3lxredqlCYt"
      }
    },
    {
      "cell_type": "code",
      "source": [
        "# Import Libraries\n",
        "import pandas as pd\n",
        "import numpy as np\n",
        "import matplotlib.pyplot as plt\n",
        "import seaborn as sns"
      ],
      "metadata": {
        "id": "M8Vqi-pPk-HR"
      },
      "execution_count": null,
      "outputs": []
    },
    {
      "cell_type": "markdown",
      "source": [
        "### Dataset Loading"
      ],
      "metadata": {
        "id": "3RnN4peoiCZX"
      }
    },
    {
      "cell_type": "code",
      "source": [
        "from google.colab import drive\n",
        "drive.mount('/content/drive')"
      ],
      "metadata": {
        "id": "WzCTThcML8S6"
      },
      "execution_count": null,
      "outputs": []
    },
    {
      "cell_type": "code",
      "source": [
        "# Load Dataset\n",
        "path = \"/content/drive/MyDrive/Almabetter/Copy of EdStatsData.csv\"\n",
        "df = pd.read_csv(path)"
      ],
      "metadata": {
        "id": "4CkvbW_SlZ_R"
      },
      "execution_count": null,
      "outputs": []
    },
    {
      "cell_type": "markdown",
      "source": [
        "### Dataset First View"
      ],
      "metadata": {
        "id": "x71ZqKXriCWQ"
      }
    },
    {
      "cell_type": "code",
      "source": [
        "# Dataset First Look\n",
        "df.head()"
      ],
      "metadata": {
        "id": "LWNFOSvLl09H"
      },
      "execution_count": null,
      "outputs": []
    },
    {
      "cell_type": "markdown",
      "source": [
        "### Dataset Rows & Columns count"
      ],
      "metadata": {
        "id": "7hBIi_osiCS2"
      }
    },
    {
      "cell_type": "code",
      "source": [
        "# Dataset Rows & Columns count\n",
        "df.shape"
      ],
      "metadata": {
        "id": "Kllu7SJgmLij"
      },
      "execution_count": null,
      "outputs": []
    },
    {
      "cell_type": "markdown",
      "source": [
        "### Dataset Information"
      ],
      "metadata": {
        "id": "JlHwYmJAmNHm"
      }
    },
    {
      "cell_type": "code",
      "source": [
        "# Dataset Info\n",
        "df.info()"
      ],
      "metadata": {
        "id": "e9hRXRi6meOf"
      },
      "execution_count": null,
      "outputs": []
    },
    {
      "cell_type": "markdown",
      "source": [
        "#### Duplicate Values"
      ],
      "metadata": {
        "id": "35m5QtbWiB9F"
      }
    },
    {
      "cell_type": "code",
      "source": [
        "# Dataset Duplicate Value Count\n",
        "df.duplicated().sum()"
      ],
      "metadata": {
        "id": "1sLdpKYkmox0"
      },
      "execution_count": null,
      "outputs": []
    },
    {
      "cell_type": "markdown",
      "source": [
        "#### Missing Values/Null Values"
      ],
      "metadata": {
        "id": "PoPl-ycgm1ru"
      }
    },
    {
      "cell_type": "code",
      "source": [
        "# Missing Values/Null Values Count\n",
        "df.isnull().sum()"
      ],
      "metadata": {
        "id": "GgHWkxvamxVg"
      },
      "execution_count": null,
      "outputs": []
    },
    {
      "cell_type": "code",
      "source": [
        "# Visualizing the missing values\n",
        "import missingno as msno\n",
        "\n",
        "msno.bar(df)"
      ],
      "metadata": {
        "id": "3q5wnI3om9sJ"
      },
      "execution_count": null,
      "outputs": []
    },
    {
      "cell_type": "markdown",
      "source": [
        "### What did you know about your dataset?"
      ],
      "metadata": {
        "id": "H0kj-8xxnORC"
      }
    },
    {
      "cell_type": "markdown",
      "source": [
        "Answer Here\n",
        "\n",
        "\n",
        "\n",
        "1. The dataset pertains to key golbal development indicators of various countries from 1970-2018 with forecasts up to 2100   \n",
        "\n",
        "2. The dataset is a panel data set with 886930 rows and 70 columns\n",
        "\n",
        "3. All of the years have missing values with the years between 1970-1989 and 2016-2100 having the most missing values\n",
        "\n",
        "4. The data has no duplicate values\n",
        "\n",
        "\n",
        "\n"
      ],
      "metadata": {
        "id": "gfoNAAC-nUe_"
      }
    },
    {
      "cell_type": "markdown",
      "source": [
        "## ***2. Understanding Your Variables***"
      ],
      "metadata": {
        "id": "nA9Y7ga8ng1Z"
      }
    },
    {
      "cell_type": "code",
      "source": [
        "# Dataset Columns\n",
        "df.columns"
      ],
      "metadata": {
        "id": "j7xfkqrt5Ag5"
      },
      "execution_count": null,
      "outputs": []
    },
    {
      "cell_type": "code",
      "source": [
        "# Dataset Describe\n",
        "df.describe()"
      ],
      "metadata": {
        "id": "DnOaZdaE5Q5t"
      },
      "execution_count": null,
      "outputs": []
    },
    {
      "cell_type": "markdown",
      "source": [
        "### Variables Description "
      ],
      "metadata": {
        "id": "PBTbrJXOngz2"
      }
    },
    {
      "cell_type": "markdown",
      "source": [
        "Answer Here\n",
        "\n",
        "1. The columns are mainly year numbers\n",
        "\n",
        "2. the summary statistics are not useful here as there are several indicators."
      ],
      "metadata": {
        "id": "aJV4KIxSnxay"
      }
    },
    {
      "cell_type": "markdown",
      "source": [
        "### Check Unique Values for each variable."
      ],
      "metadata": {
        "id": "u3PMJOP6ngxN"
      }
    },
    {
      "cell_type": "code",
      "source": [
        "# Check Unique Values for each variable.\n",
        "#not possible for numerical variables so will check unique values for indicator name and country name only\n",
        "\n",
        "df['Country Name'].unique()"
      ],
      "metadata": {
        "id": "zms12Yq5n-jE"
      },
      "execution_count": null,
      "outputs": []
    },
    {
      "cell_type": "code",
      "source": [
        "#Checking unique values for Indicator Name\n",
        "\n",
        "df['Indicator Name'].unique()"
      ],
      "metadata": {
        "id": "gFQAi-1XQ6Lh"
      },
      "execution_count": null,
      "outputs": []
    },
    {
      "cell_type": "markdown",
      "source": [
        "## 3. ***Data Wrangling***"
      ],
      "metadata": {
        "id": "dauF4eBmngu3"
      }
    },
    {
      "cell_type": "markdown",
      "source": [
        "### Data Wrangling Code"
      ],
      "metadata": {
        "id": "bKJF3rekwFvQ"
      }
    },
    {
      "cell_type": "code",
      "source": [
        "# Write your code to make your dataset analysis ready.\n"
      ],
      "metadata": {
        "id": "wk-9a2fpoLcV"
      },
      "execution_count": null,
      "outputs": []
    },
    {
      "cell_type": "markdown",
      "source": [
        "Droping Indicator Code, Country code and 'Unamed: 69' columns as they're not necessary for our analysis purpose\n"
      ],
      "metadata": {
        "id": "y2mhUBT3boYJ"
      }
    },
    {
      "cell_type": "code",
      "source": [
        "#Dropping Indicator Code\n",
        "df = df.drop(['Indicator Code'], axis = 1)"
      ],
      "metadata": {
        "id": "zcXnwemfbw4A"
      },
      "execution_count": null,
      "outputs": []
    },
    {
      "cell_type": "code",
      "source": [
        "#Dropping Country Code\n",
        "df = df.drop(['Country Code'], axis = 1)"
      ],
      "metadata": {
        "id": "vWfVVwKwb1Yo"
      },
      "execution_count": null,
      "outputs": []
    },
    {
      "cell_type": "code",
      "source": [
        "#Dropping Unamed:69\n",
        "df = df.drop(['Unnamed: 69'], axis = 1)"
      ],
      "metadata": {
        "id": "v97XEIRIcBoY"
      },
      "execution_count": null,
      "outputs": []
    },
    {
      "cell_type": "markdown",
      "source": [
        "Droping Data of years 2020 to 2101 as they are long run forecasts derived from incomplete data and are not useful for analyisis as such due to their long horizons"
      ],
      "metadata": {
        "id": "j7y90cMrcPGw"
      }
    },
    {
      "cell_type": "code",
      "source": [
        "#Dropping years 2020 to 2101\n",
        "df = df.drop(list(map(str, list(range(2020,2101,5)))), axis = 1)"
      ],
      "metadata": {
        "id": "ZZZSB0UQcOBo"
      },
      "execution_count": null,
      "outputs": []
    },
    {
      "cell_type": "markdown",
      "source": [
        "Dropping rows that contain more than 25% null values"
      ],
      "metadata": {
        "id": "cgiULwIleb1n"
      }
    },
    {
      "cell_type": "code",
      "source": [
        "df.dropna(subset = list(map(str,list(range(1970,2017)))), thresh = 0.75*(2017-1970), inplace = True)"
      ],
      "metadata": {
        "id": "5QdHzgiLeHef"
      },
      "execution_count": null,
      "outputs": []
    },
    {
      "cell_type": "markdown",
      "source": [
        "Checking info of dataset"
      ],
      "metadata": {
        "id": "wyMDuD9hb5D5"
      }
    },
    {
      "cell_type": "code",
      "source": [
        "df.info()"
      ],
      "metadata": {
        "id": "3JacH2xob4oh"
      },
      "execution_count": null,
      "outputs": []
    },
    {
      "cell_type": "markdown",
      "source": [
        "Given that 2017,2016, 2015 and 1970 have relatively lower data points than the rest of the dataset we can drop them as well"
      ],
      "metadata": {
        "id": "6nKGbNT_e2Rf"
      }
    },
    {
      "cell_type": "code",
      "source": [
        "df = df.drop(['2017'], axis = 1)"
      ],
      "metadata": {
        "id": "7jgWbvNafViv"
      },
      "execution_count": null,
      "outputs": []
    },
    {
      "cell_type": "markdown",
      "source": [
        "Missing values filled using linear interpolation method as missing values are more likely to be closer to recent values than the overall mean, especially since there exists a time trend in most of these series "
      ],
      "metadata": {
        "id": "C8yPYLhMzNzg"
      }
    },
    {
      "cell_type": "code",
      "source": [
        "df.iloc[:,2:] = df.iloc[:,2:].interpolate(limit_direction = 'both', axis = 1)"
      ],
      "metadata": {
        "id": "wrxh72gr8C_b"
      },
      "execution_count": null,
      "outputs": []
    },
    {
      "cell_type": "code",
      "source": [
        "path = \"/content/drive/MyDrive/Almabetter/Copy of EdStatsData.csv\"\n",
        "df_2 = pd.read_csv(path)"
      ],
      "metadata": {
        "id": "53pPmO8RzhWW"
      },
      "execution_count": null,
      "outputs": []
    },
    {
      "cell_type": "code",
      "execution_count": null,
      "metadata": {
        "id": "t36c2BBqcjJ-"
      },
      "outputs": [],
      "source": [
        "df_2 = df_2.drop(list(map(str, list(range(2020,2101,5)))), axis = 1)"
      ]
    },
    {
      "cell_type": "code",
      "execution_count": null,
      "metadata": {
        "id": "mT9coghVdAuO"
      },
      "outputs": [],
      "source": [
        "df_2 = df_2.drop(list(map(str, list(range(1970,2018)))), axis = 1)"
      ]
    },
    {
      "cell_type": "code",
      "execution_count": null,
      "metadata": {
        "id": "_z9ur15IdFVd"
      },
      "outputs": [],
      "source": [
        "df_2 = df_2.drop(['Indicator Code', 'Unnamed: 69', 'Indicator Name'], axis = 1)"
      ]
    },
    {
      "cell_type": "code",
      "execution_count": null,
      "metadata": {
        "id": "8PIdPP9sdGk9"
      },
      "outputs": [],
      "source": [
        "df_2"
      ]
    },
    {
      "cell_type": "code",
      "execution_count": null,
      "metadata": {
        "id": "p6mZa5wrdcs1"
      },
      "outputs": [],
      "source": [
        "df_2.drop_duplicates(inplace = True)"
      ]
    },
    {
      "cell_type": "code",
      "execution_count": null,
      "metadata": {
        "id": "pbpXrzMOdjSE"
      },
      "outputs": [],
      "source": [
        "df_2.reset_index(inplace = True)"
      ]
    },
    {
      "cell_type": "code",
      "execution_count": null,
      "metadata": {
        "id": "vbrgctHDd0Vd"
      },
      "outputs": [],
      "source": [
        "df_2 = df_2.drop(['index'], axis = 1)"
      ]
    },
    {
      "cell_type": "code",
      "execution_count": null,
      "metadata": {
        "id": "lXYoj8FXd7st"
      },
      "outputs": [],
      "source": [
        "df_3 = df.merge(df_2, how = 'left', on = 'Country Name')\n",
        "df_3"
      ]
    },
    {
      "cell_type": "code",
      "execution_count": null,
      "metadata": {
        "id": "OnNaU3RaPEGx"
      },
      "outputs": [],
      "source": [
        "pip install geopandas"
      ]
    },
    {
      "cell_type": "code",
      "execution_count": null,
      "metadata": {
        "id": "EtNW3v9KCX1V"
      },
      "outputs": [],
      "source": [
        "import geopandas as gpd"
      ]
    },
    {
      "cell_type": "code",
      "execution_count": null,
      "metadata": {
        "id": "O9IFZN0BFkUz"
      },
      "outputs": [],
      "source": [
        "json_gdf = gpd.read_file('/content/drive/MyDrive/Almabetter/world-countries.json')"
      ]
    },
    {
      "cell_type": "code",
      "execution_count": null,
      "metadata": {
        "id": "jOsgL6oaF4qs"
      },
      "outputs": [],
      "source": [
        "json_gdf.head()"
      ]
    },
    {
      "cell_type": "code",
      "execution_count": null,
      "metadata": {
        "id": "FwbsHpxCGJkL"
      },
      "outputs": [],
      "source": [
        "len(json_gdf['id'].unique())"
      ]
    },
    {
      "cell_type": "code",
      "execution_count": null,
      "metadata": {
        "id": "cjQ7XFANF-c8"
      },
      "outputs": [],
      "source": [
        "map_df = json_gdf.merge(df_3, how = 'inner', left_on = 'id', right_on = 'Country Code')"
      ]
    },
    {
      "cell_type": "code",
      "source": [
        "map_df = map_df.drop(['name'], axis = 1)"
      ],
      "metadata": {
        "id": "TBTu_rhf6Rdh"
      },
      "execution_count": null,
      "outputs": []
    },
    {
      "cell_type": "code",
      "source": [
        "map_df"
      ],
      "metadata": {
        "id": "v3anZPca6Z_L"
      },
      "execution_count": null,
      "outputs": []
    },
    {
      "cell_type": "markdown",
      "source": [
        "### What all manipulations have you done and insights you found?"
      ],
      "metadata": {
        "id": "MSa1f5Uengrz"
      }
    },
    {
      "cell_type": "markdown",
      "source": [
        "Manipulations done:\n",
        "\n",
        "\n",
        "1.   Removed rows with more than 25% null values\n",
        "2.   imputed missing values using linear interpolation method\n",
        "3.   Created map_df with country code and lattitude and longitude of each country\n",
        "\n",
        "Insights:\n",
        "\n",
        "Several indicators without much data pertaining to countries or lack of data throughout the time period under analysis\n",
        "\n",
        "\n",
        "\n",
        "\n"
      ],
      "metadata": {
        "id": "LbyXE7I1olp8"
      }
    },
    {
      "cell_type": "markdown",
      "source": [
        "## ***4. Data Vizualization, Storytelling & Experimenting with charts : Understand the relationships between variables***"
      ],
      "metadata": {
        "id": "GF8Ens_Soomf"
      }
    },
    {
      "cell_type": "markdown",
      "source": [
        "#### Chart - 1 : Bar Chart of Primary and Secondary Gross Enrollment Ratio by Region, Both sexes, in 2016"
      ],
      "metadata": {
        "id": "0wOQAZs5pc--"
      }
    },
    {
      "cell_type": "code",
      "source": [
        "# Chart - 1 visualization code\n"
      ],
      "metadata": {
        "id": "7v_ESjsspbW7"
      },
      "execution_count": null,
      "outputs": []
    },
    {
      "cell_type": "code",
      "execution_count": null,
      "metadata": {
        "id": "WMQ_kKO61YJs"
      },
      "outputs": [],
      "source": [
        "ger_2016 = df[(df['Country Name'].isin(['East Asia & Pacific', 'Euro area', 'Europe & Central Asia','Latin America & Caribbean','Middle East & North Africa','North America','South Asia','Sub-Saharan Africa','World']))].loc[df['Indicator Name'] == 'Gross enrolment ratio, primary and secondary, both sexes (%)' ,['Country Name', '2016']].set_index('Country Name')"
      ]
    },
    {
      "cell_type": "code",
      "source": [
        "ger_2016.plot.bar(legend = None)\n",
        "plt.xlabel('Region Name')\n",
        "plt.ylabel('Gross enrolment ratio, primary and secondary, both sexes (%)')\n",
        "plt.title('Gross enrolment ratio, primary and secondary, both sexes (%) by Region')\n"
      ],
      "metadata": {
        "id": "2yUcsAKgCRbv"
      },
      "execution_count": null,
      "outputs": []
    },
    {
      "cell_type": "markdown",
      "source": [
        "##### 1. Why did you pick the specific chart?"
      ],
      "metadata": {
        "id": "K5QZ13OEpz2H"
      }
    },
    {
      "cell_type": "markdown",
      "source": [
        "In order to compare the most recent primary and secondary enrollment rates across regions to identify disparities in access to primary education"
      ],
      "metadata": {
        "id": "XESiWehPqBRc"
      }
    },
    {
      "cell_type": "markdown",
      "source": [
        "##### 2. What is/are the insight(s) found from the chart?"
      ],
      "metadata": {
        "id": "lQ7QKXXCp7Bj"
      }
    },
    {
      "cell_type": "markdown",
      "source": [
        "Sub-Saharan Africa has the lowest gross enrolment rates whilst the Euro area has the highest. Sub-Saharan Africa ad South Asia have enrollment rates lower than the world average while all other regions have gross enrollment ratios higher than the World average. Euro area and Europe and Central Asia region have gross enrollment ratios > 100% "
      ],
      "metadata": {
        "id": "C_j1G7yiqdRP"
      }
    },
    {
      "cell_type": "markdown",
      "source": [
        "##### 3. Will the gained insights help creating a positive business impact? \n",
        "Are there any insights that lead to negative growth? Justify with specific reason."
      ],
      "metadata": {
        "id": "448CDAPjqfQr"
      }
    },
    {
      "cell_type": "markdown",
      "source": [
        "Poor gross enrollment ratios in Sub-Saharan Africa and South Asia relative to the world indicate poorer access to primary and secondary education across these regions relative to others. The Gross Enrollment Ratio, which is a measure of enrollment in a specific level of education, regardless of the students' age or grade level, expressed as a percentage of the eligible population. This implies a GER of >100%, which is the case for Euro Area and Europe and Central Asia, indicates larger age groups who are not of eligible age also being in primary or secondary school."
      ],
      "metadata": {
        "id": "3cspy4FjqxJW"
      }
    },
    {
      "cell_type": "markdown",
      "source": [
        "#### Chart - 2 Histogram of pupil teacher ratio in primary education (headcount basis)"
      ],
      "metadata": {
        "id": "KSlN3yHqYklG"
      }
    },
    {
      "cell_type": "code",
      "source": [
        "# Chart - 2 visualization code"
      ],
      "metadata": {
        "id": "R4YgtaqtYklH"
      },
      "execution_count": null,
      "outputs": []
    },
    {
      "cell_type": "code",
      "execution_count": null,
      "metadata": {
        "id": "RmCKrPTGIWKl"
      },
      "outputs": [],
      "source": [
        "le_2016 = df.loc[df['Indicator Name'] == 'Pupil-teacher ratio in primary education (headcount basis)' ,['Country Name', '2016']].set_index('Country Name')"
      ]
    },
    {
      "cell_type": "code",
      "source": [
        "le_2016.plot.hist(legend = None)\n",
        "plt.title('histogram of Pupil-teacher ratio in primary education (headcount basis)')\n",
        "plt.axvline(x = le_2016['2016'].mean(), color = 'b', label = 'mean pupil-teacher ratio')\n",
        "plt.axvline(x = le_2016['2016'].median(), color = 'r', label = 'mean pupil-teacher ratio')"
      ],
      "metadata": {
        "id": "V8C7uz6yIWKm"
      },
      "execution_count": null,
      "outputs": []
    },
    {
      "cell_type": "markdown",
      "source": [
        "##### 1. Why did you pick the specific chart?"
      ],
      "metadata": {
        "id": "t6dVpIINYklI"
      }
    },
    {
      "cell_type": "markdown",
      "source": [
        "The Pupil-teacher ratio in primary education provides insights into the educational environment and resource allocation in primary schools. Specifically, a lower ratio generally implies a higher investment in education, with more teachers available to cater to the needs of students. Governments and policymakers often use this ratio to identify areas with high student-teacher ratios and allocate resources accordingly to improve educational infrastructure and reduce overcrowding."
      ],
      "metadata": {
        "id": "5aaW0BYyYklI"
      }
    },
    {
      "cell_type": "markdown",
      "source": [
        "##### 2. What is/are the insight(s) found from the chart?\n",
        "\n"
      ],
      "metadata": {
        "id": "ijmpgYnKYklI"
      }
    },
    {
      "cell_type": "markdown",
      "source": [
        "The histogram has a right skew with the mean less than the median. the mean pupil-teacher ratio is around 26 while the median pupil teacher ratio is around 22. there is significant clusturing around 20 and 40. The maximum pupil teacher ratio is between 50-60. Generally, a higher the pupil teacher ratio indicates worse education quality"
      ],
      "metadata": {
        "id": "PSx9atu2YklI"
      }
    },
    {
      "cell_type": "markdown",
      "source": [
        "##### 3. Will the gained insights help creating a positive business impact? \n",
        "Are there any insights that lead to negative growth? Justify with specific reason."
      ],
      "metadata": {
        "id": "-JiQyfWJYklI"
      }
    },
    {
      "cell_type": "markdown",
      "source": [
        "In order to assess educational quality and its broader problems, visualising the distribution of the pupil-teacher ratio within primary education gives us indights into the true quality of education primary students get. While gross enrollment ratios indicate close to 100% enrollment across primary and secondary education, the pupil teacher ratio indicates that while most countries have a ratio of around 20-30 pupils per student, there exist several frequency of countries with a student teacher ratio of 40+, which is concerning as it implies a lower quality of education overall due to lower personal attention given to each pupil "
      ],
      "metadata": {
        "id": "BcBbebzrYklV"
      }
    },
    {
      "cell_type": "markdown",
      "source": [
        "#### Chart - 3 Pie Chart of Total Population 0-14 years by region in 2016"
      ],
      "metadata": {
        "id": "EM7whBJCYoAo"
      }
    },
    {
      "cell_type": "code",
      "source": [
        "# Chart - 3 visualization code\n",
        "\n",
        "pop_2016 = df[(df['Country Name'].isin(['East Asia & Pacific', 'Euro area', 'Europe & Central Asia','Latin America & Caribbean','Middle East & North Africa','North America','South Asia','Sub-Saharan Africa']))].loc[df['Indicator Name'] == 'Population, ages 0-14, total' ,['Country Name', '2016']].set_index('Country Name')\n",
        "ax = pop_2016.plot.pie(y = '2016')\n",
        "ax.set_title('Total population 0-14 years by region in 2016')\n",
        "sns.move_legend(ax, \"upper left\", bbox_to_anchor=(1.2, 1))\n",
        "ax.yaxis.set_visible(False)"
      ],
      "metadata": {
        "id": "t6GMdE67YoAp"
      },
      "execution_count": null,
      "outputs": []
    },
    {
      "cell_type": "markdown",
      "source": [
        "##### 1. Why did you pick the specific chart?"
      ],
      "metadata": {
        "id": "fge-S5ZAYoAp"
      }
    },
    {
      "cell_type": "markdown",
      "source": [
        "Analyzing the 0-14 population across regions in relation to education provides critical insights for educational planning and policy development. Understanding the distribution and characteristics of the 0-14 age group helps identify the demand for educational services, such as school infrastructure, teachers, and learning resources."
      ],
      "metadata": {
        "id": "5dBItgRVYoAp"
      }
    },
    {
      "cell_type": "markdown",
      "source": [
        "##### 2. What is/are the insight(s) found from the chart?"
      ],
      "metadata": {
        "id": "85gYPyotYoAp"
      }
    },
    {
      "cell_type": "markdown",
      "source": [
        "East Asia, South Asia and Sub Saharan Africa have the highest proportion of 0-14 population across all regions, with Euro area and North America having the lowest 0-14 populations."
      ],
      "metadata": {
        "id": "4jstXR6OYoAp"
      }
    },
    {
      "cell_type": "markdown",
      "source": [
        "##### 3. Will the gained insights help creating a positive business impact? \n",
        "Are there any insights that lead to negative growth? Justify with specific reason."
      ],
      "metadata": {
        "id": "RoGjAbkUYoAp"
      }
    },
    {
      "cell_type": "markdown",
      "source": [
        "Areas where the 0-14 year old population is highest would require greater resouce allocation towards education. Judging by the pie chart, Asia and Africa (Sub-Saharan) are areas where educational resouces are likely to be most needed and the education sector constrained."
      ],
      "metadata": {
        "id": "zfJ8IqMcYoAp"
      }
    },
    {
      "cell_type": "markdown",
      "source": [
        "#### Chart - 4 Scatterplot of Gross enrollment ratio, tertiary, both sexes (%) and GDP per capita (Current US$)"
      ],
      "metadata": {
        "id": "4Of9eVA-YrdM"
      }
    },
    {
      "cell_type": "code",
      "source": [
        "# Chart - 4 visualization code\n",
        "scat_2016 = df[(df['Indicator Name'].isin(['Gross enrolment ratio, tertiary, both sexes (%)', 'GDP per capita (current US$)']))].loc[:,['Country Name','Indicator Name','2016']].set_index('Country Name')"
      ],
      "metadata": {
        "id": "irlUoxc8YrdO"
      },
      "execution_count": null,
      "outputs": []
    },
    {
      "cell_type": "code",
      "source": [
        "scat_plt = pd.pivot_table(scat_2016, values = '2016', index = ['Country Name'], columns = ['Indicator Name'])"
      ],
      "metadata": {
        "id": "KOTMw41E_gwX"
      },
      "execution_count": null,
      "outputs": []
    },
    {
      "cell_type": "code",
      "source": [
        "scat_plt = scat_plt.dropna(axis = 0)"
      ],
      "metadata": {
        "id": "6cYraskzVMD5"
      },
      "execution_count": null,
      "outputs": []
    },
    {
      "cell_type": "code",
      "source": [
        "plt.scatter(scat_plt['GDP per capita (current US$)'], scat_plt['Gross enrolment ratio, tertiary, both sexes (%)'])\n",
        "\n",
        "#trendline\n",
        "z = np.polyfit(scat_plt['GDP per capita (current US$)'], scat_plt['Gross enrolment ratio, tertiary, both sexes (%)'],1)\n",
        "p = np.poly1d(z)\n",
        "plt.plot(scat_plt['GDP per capita (current US$)'], p(scat_plt['GDP per capita (current US$)']), 'r--')\n",
        "plt.xlabel('GDP per capita (current US$)')\n",
        "plt.ylabel('Gross enrolment ratio, tertiary, both sexes (%)')"
      ],
      "metadata": {
        "id": "DbyltPu1TFGN"
      },
      "execution_count": null,
      "outputs": []
    },
    {
      "cell_type": "markdown",
      "source": [
        "##### 1. Why did you pick the specific chart?"
      ],
      "metadata": {
        "id": "iky9q4vBYrdO"
      }
    },
    {
      "cell_type": "markdown",
      "source": [
        "While primary and secondary education is generally at a high level in most countries, tertiary education enrollment provides clearer signs of education quality and development within a country. This is because, Tertiary education whihc includes universities, colleges, and vocational institutes, equips individuals with in-depth knowledge and expertise required for professional careers and specialized occupations. Many specialized occupations and professional careers require a certain level of tertiary education as a minimum qualification. Considering that tertiary education requires significant time and monetary investment for an individual and economy, I thought it would be appropriate to analyse the impact on average income (real gdp per capita) on enrollment rates in teritary education"
      ],
      "metadata": {
        "id": "v28oZZxczfUl"
      }
    },
    {
      "cell_type": "markdown",
      "source": [
        "##### 2. What is/are the insight(s) found from the chart?"
      ],
      "metadata": {
        "id": "F6T5p64dYrdO"
      }
    },
    {
      "cell_type": "markdown",
      "source": [
        "There is a positive relationship between real gdp per capita and tertiary gross enrollment rates, indciating that generally higher average income results in higher gross enrollment rates in tertiary education. This validates the hypothesis that due to the time and monetary investment associated with tertiary education, and the potential lack of jobs pertianing to skilled fields results in lower enrollment in low gdp per capita countries"
      ],
      "metadata": {
        "id": "Xx8WAJvtYrdO"
      }
    },
    {
      "cell_type": "markdown",
      "source": [
        "##### 3. Will the gained insights help creating a positive business impact? \n",
        "Are there any insights that lead to negative growth? Justify with specific reason."
      ],
      "metadata": {
        "id": "y-Ehk30pYrdP"
      }
    },
    {
      "cell_type": "markdown",
      "source": [
        "It will help policy makers and aid agencies understand the necessity to promote grater enrollment in tertiary education in low income countries to increase skilled labour and thus income, as well as understand the possible root causes of the divide between rich and poor income countries"
      ],
      "metadata": {
        "id": "YbByPny939jB"
      }
    },
    {
      "cell_type": "markdown",
      "source": [
        "#### Chart - 5 Line Chart of gross enrollment ratio primary male vs gross enrollment ratio primary female over time "
      ],
      "metadata": {
        "id": "bamQiAODYuh1"
      }
    },
    {
      "cell_type": "code",
      "source": [
        "# Chart - 5 visualization code\n",
        "fig = plt.figure(figsize = (8,6))\n",
        "\n",
        "plt.plot(list(range(1970,2017)), df[(df['Indicator Name'] == 'Gross enrolment ratio, primary, male (%)') & (df['Country Name'] == 'World')].iloc[:,2:].T, label ='Gross enrolment ratio, primary, male (%)')\n",
        "plt.plot(list(range(1970,2017)), df[(df['Indicator Name'] ==  'Gross enrolment ratio, primary, female (%)') & (df['Country Name'] == 'World')].iloc[:,2:].T, label = 'Gross enrolment ratio, primary, female (%)')\n",
        "plt.legend(bbox_to_anchor = (1,0.9))\n",
        "plt.title('World gross enrolment ratio, primary, female and male (%)')\n",
        "plt.xlabel('Year')\n",
        "plt.ylabel('Gross enrolment ratio, primary (%)')\n",
        "plt.show()"
      ],
      "metadata": {
        "id": "TIJwrbroYuh3"
      },
      "execution_count": null,
      "outputs": []
    },
    {
      "cell_type": "markdown",
      "source": [
        "##### 1. Why did you pick the specific chart?"
      ],
      "metadata": {
        "id": "QHF8YVU7Yuh3"
      }
    },
    {
      "cell_type": "markdown",
      "source": [
        "The chart allows you to track and compare the enrolment rates of male and female students in primary education over time. It helps in assessing progress towards achieving gender equality in education. By visualizing the trends, you can identify any disparities or imbalances in enrolment rates between genders.The chart can serve as a basis for formulating policies and interventions aimed at promoting gender equality in education. It helps policymakers and educators understand the impact of their initiatives and interventions on enrolment rates. "
      ],
      "metadata": {
        "id": "dcxuIMRPYuh3"
      }
    },
    {
      "cell_type": "markdown",
      "source": [
        "##### 2. What is/are the insight(s) found from the chart?"
      ],
      "metadata": {
        "id": "GwzvFGzlYuh3"
      }
    },
    {
      "cell_type": "markdown",
      "source": [
        "While primary gross enrollment ratio % for males has been relatively steady between 1970 and 2017, for females the ratio has steadily risen from 80% to above 100% in 2017. We can see siginifcant reduction in the disparity in gross enrollment ratios of primary education, with male and female gross enrollment ratios almost on par with each other and mirroring each other from 2010 onwards."
      ],
      "metadata": {
        "id": "uyqkiB8YYuh3"
      }
    },
    {
      "cell_type": "markdown",
      "source": [
        "##### 3. Will the gained insights help creating a positive business impact? \n",
        "Are there any insights that lead to negative growth? Justify with specific reason."
      ],
      "metadata": {
        "id": "qYpmQ266Yuh3"
      }
    },
    {
      "cell_type": "markdown",
      "source": [
        "The above chart allows the policy makers to now shifting their focus from primary education to reducing potential disparity in secondary and tertiary education. The policies used to bridge this disparity may also now be tweaked for higher levels of education after seeing their sucess in primary education."
      ],
      "metadata": {
        "id": "_WtzZ_hCYuh4"
      }
    },
    {
      "cell_type": "markdown",
      "source": [
        "#### Chart - 6 Stacked Chart of 'Enrolment in primary education, both sexes (number)' and 'Enrolment in secondary education, both sexes (number)"
      ],
      "metadata": {
        "id": "OH-pJp9IphqM"
      }
    },
    {
      "cell_type": "code",
      "source": [
        "# Chart - 6 visualization code\n",
        "stcked_plt = df[df['Indicator Name'].isin(['Enrolment in primary education, both sexes (number)', 'Enrolment in secondary education, both sexes (number)']) & (df['Country Name'] == 'World')][['Indicator Name','2016']]\n",
        "\n",
        "pd.pivot_table(stcked_plt, columns = 'Indicator Name').plot(kind = 'bar', stacked = True)\n",
        "plt.legend(bbox_to_anchor = (1,0.9))\n",
        "plt.xlabel('Year')\n",
        "plt.ylabel('Enrollment (number)')"
      ],
      "metadata": {
        "id": "kuRf4wtuphqN"
      },
      "execution_count": null,
      "outputs": []
    },
    {
      "cell_type": "markdown",
      "source": [
        "##### 1. Why did you pick the specific chart?"
      ],
      "metadata": {
        "id": "bbFf2-_FphqN"
      }
    },
    {
      "cell_type": "markdown",
      "source": [
        "It allows for a visual comparison of enrolment levels, helps identify disparities, and provides information on transition rates between the two education levels. Policymakers can use this chart to allocate resources, plan for capacity-building, and address any imbalances. It assists in understanding education trends, guiding policy decisions, and communicating enrolment data effectively. Overall, the chart serves as a crucial tool for education planning, investment strategies, and fostering equitable access to primary and secondary education."
      ],
      "metadata": {
        "id": "loh7H2nzphqN"
      }
    },
    {
      "cell_type": "markdown",
      "source": [
        "##### 2. What is/are the insight(s) found from the chart?"
      ],
      "metadata": {
        "id": "_ouA3fa0phqN"
      }
    },
    {
      "cell_type": "markdown",
      "source": [
        "The chart indicates that in 2016 there existed almot double the number of secondary school students than primary school students. While the number of primary school students are around 0.7 billion, the number of secondary school students stand at about 1.3 billion."
      ],
      "metadata": {
        "id": "VECbqPI7phqN"
      }
    },
    {
      "cell_type": "markdown",
      "source": [
        "##### 3. Will the gained insights help creating a positive business impact? \n",
        "Are there any insights that lead to negative growth? Justify with specific reason."
      ],
      "metadata": {
        "id": "Seke61FWphqN"
      }
    },
    {
      "cell_type": "markdown",
      "source": [
        "The chart indicates the need for greater resource allocations towards secondary education overall across the world due to the greater number of secondary students than primary students. It also indicates several students are sucessfully transitioning from primary to secondary resulting in greater overall enrollment in secondary than primary schools."
      ],
      "metadata": {
        "id": "DW4_bGpfphqN"
      }
    },
    {
      "cell_type": "markdown",
      "source": [
        "#### Chart - 7 Bubble chart comparing real GDP per capita, primary enrollment rates (%) and population size"
      ],
      "metadata": {
        "id": "PIIx-8_IphqN"
      }
    },
    {
      "cell_type": "code",
      "source": [
        "# Chart - 7 visualization code\n",
        "bubb_2016 = df[(df['Indicator Name'].isin(['GDP per capita (current US$)' , 'Gross enrolment ratio, primary, both sexes (%)', 'Population growth (annual %)']))].loc[:,['Country Name','Indicator Name','2016']].set_index('Country Name')"
      ],
      "metadata": {
        "id": "lqAIGUfyphqO"
      },
      "execution_count": null,
      "outputs": []
    },
    {
      "cell_type": "code",
      "source": [
        "bubb_plt = pd.pivot_table(bubb_2016, values = '2016', index = ['Country Name'], columns = ['Indicator Name'])"
      ],
      "metadata": {
        "id": "eJVK5BDAD4cF"
      },
      "execution_count": null,
      "outputs": []
    },
    {
      "cell_type": "code",
      "source": [
        "plt.scatter(bubb_plt['GDP per capita (current US$)' ], bubb_plt['Gross enrolment ratio, primary, both sexes (%)'], s = bubb_plt['Population growth (annual %)']*22)\n",
        "plt.ylabel('Gross enrolment ratio, secondary, both sexes (%)')\n",
        "plt.xlabel('GDP per capita (current US$)')\n"
      ],
      "metadata": {
        "id": "_4UbFbeZEC1t"
      },
      "execution_count": null,
      "outputs": []
    },
    {
      "cell_type": "markdown",
      "source": [
        "##### 1. Why did you pick the specific chart?"
      ],
      "metadata": {
        "id": "t27r6nlMphqO"
      }
    },
    {
      "cell_type": "markdown",
      "source": [
        "The chart informs long-term educational planning by forecasting enrolment needs and understanding population dynamics. It supports evidence-based decision-making by communicating findings effectively. Policymakers gain insights into the relationship between economic prosperity, enrolment rates, and population growth. Overall, the chart aids in targeted investments, policy evaluation, resource allocation, educational planning, and evidence-based decision-making in education and economic development."
      ],
      "metadata": {
        "id": "iv6ro40sphqO"
      }
    },
    {
      "cell_type": "markdown",
      "source": [
        "##### 2. What is/are the insight(s) found from the chart?"
      ],
      "metadata": {
        "id": "r2jJGEOYphqO"
      }
    },
    {
      "cell_type": "markdown",
      "source": [
        "There exists no relationship between GDP per capita and primary gross enrollment rates (%) as seen by the flat nature of the trend between the two vairables. Moreover, population growth seems to be negatively related with GDP per capita while being unrelated to primary gross enrollment rates. Moreover, those countries with the highest primary gross enrollment ratio seems to have the highest population growth rates. However, low population growth countries appear to be clustered around 100% enrollment rate while higher population growth countries show greater variance in enrollment rates."
      ],
      "metadata": {
        "id": "Po6ZPi4hphqO"
      }
    },
    {
      "cell_type": "markdown",
      "source": [
        "##### 3. Will the gained insights help creating a positive business impact? \n",
        "Are there any insights that lead to negative growth? Justify with specific reason."
      ],
      "metadata": {
        "id": "b0JNsNcRphqO"
      }
    },
    {
      "cell_type": "markdown",
      "source": [
        "This chart indicates that high population growth countries tend to be the most poorer (in terms of real GDP per capita) and show greater variance in primary enrollment rates than those with lower population growth rates. This is concerning as income may not be able to increase fast enough to accomadate the increased population and may lead to additional strain on resources and the quality of life and education within these countries resulting in significant variance in primary enrollment rates. These countries are at particular risk of worsening of educational quality as a result and this chart brings to light this problem"
      ],
      "metadata": {
        "id": "xvSq8iUTphqO"
      }
    },
    {
      "cell_type": "markdown",
      "source": [
        "#### Chart - 8 Clustered Bar Chart of Pre-Primary, Primary, Secondary and Teritary Gross Enrollment by Region"
      ],
      "metadata": {
        "id": "BZR9WyysphqO"
      }
    },
    {
      "cell_type": "code",
      "source": [
        "# Chart - 8 visualization code\n",
        "grs_enrol_rat_pre_prim_2014 = df[(df['Country Name'].isin(['East Asia & Pacific', 'Euro area', 'Europe & Central Asia','Latin America & Caribbean','Middle East & North Africa','North America','South Asia','Sub-Saharan Africa','World']))].loc[df['Indicator Name'] == 'Gross enrolment ratio, pre-primary, both sexes (%)' ,['Country Name', '2016']].set_index('Country Name').rename(columns = {'2016': 'Gross enrolment ratio, pre-primary, both sexes (%)'})\n",
        "\n",
        "grs_enrol_rat_prim_2014 = df[(df['Country Name'].isin(['East Asia & Pacific', 'Euro area', 'Europe & Central Asia','Latin America & Caribbean','Middle East & North Africa','North America','South Asia','Sub-Saharan Africa','World']))].loc[df['Indicator Name'] == 'Gross enrolment ratio, primary, both sexes (%)' ,['Country Name', '2016']].set_index('Country Name').rename(columns = {'2016': 'Gross enrolment ratio, primary, both sexes (%)'})\n",
        "\n",
        "grs_enrol_rat_sec_2014 = df[(df['Country Name'].isin(['East Asia & Pacific', 'Euro area', 'Europe & Central Asia','Latin America & Caribbean','Middle East & North Africa','North America','South Asia','Sub-Saharan Africa','World']))].loc[df['Indicator Name'] == 'Gross enrolment ratio, secondary, both sexes (%)' ,['Country Name', '2016']].set_index('Country Name').rename(columns = {'2016':  'Gross enrolment ratio, secondary, both sexes (%)'})\n",
        "\n",
        "grs_enrol_rat_ter_2014 = df[(df['Country Name'].isin(['East Asia & Pacific', 'Euro area', 'Europe & Central Asia','Latin America & Caribbean','Middle East & North Africa','North America','South Asia','Sub-Saharan Africa','World']))].loc[df['Indicator Name'] == 'Gross enrolment ratio, tertiary, both sexes (%)' ,['Country Name', '2016']].set_index('Country Name').rename(columns = {'2016': 'Gross enrolment ratio, tertiary, both sexes (%)'})\n",
        "\n",
        "comb_df = pd.concat([grs_enrol_rat_pre_prim_2014, grs_enrol_rat_prim_2014,grs_enrol_rat_sec_2014,grs_enrol_rat_ter_2014], axis = 1)"
      ],
      "metadata": {
        "id": "TdPTWpAVphqO"
      },
      "execution_count": null,
      "outputs": []
    },
    {
      "cell_type": "code",
      "source": [
        "comb_df.plot(y = ['Gross enrolment ratio, pre-primary, both sexes (%)','Gross enrolment ratio, primary, both sexes (%)','Gross enrolment ratio, secondary, both sexes (%)','Gross enrolment ratio, tertiary, both sexes (%)'], kind = 'bar', figsize = (10,5))\n",
        "plt.xlabel('Region Name')\n",
        "plt.ylabel('Gross enrolment ratio, both sexes (%)')\n",
        "plt.title('Gross enrolment ratio, both sexes (%) by Region')\n",
        "plt.legend(bbox_to_anchor = (1,1), loc = 'upper left')"
      ],
      "metadata": {
        "id": "F4PEtjCrP5eS"
      },
      "execution_count": null,
      "outputs": []
    },
    {
      "cell_type": "markdown",
      "source": [
        "##### 1. Why did you pick the specific chart?"
      ],
      "metadata": {
        "id": "jj7wYXLtphqO"
      }
    },
    {
      "cell_type": "markdown",
      "source": [
        "As we have analysed gross enrollment rates of primary, secondary and tertiary across various contexts, I thought it would be useful to cross sectionally analyse the enrollment rates across various divisions by regions to get an idea of general patterns of enrollment across regions"
      ],
      "metadata": {
        "id": "Ob8u6rCTphqO"
      }
    },
    {
      "cell_type": "markdown",
      "source": [
        "##### 2. What is/are the insight(s) found from the chart?"
      ],
      "metadata": {
        "id": "eZrbJ2SmphqO"
      }
    },
    {
      "cell_type": "markdown",
      "source": [
        "pre-primary and tertiary see greater variance in enrollment rates across regions. South Asia and Sub-Saharan Africa tend to have the lowest rates of pre-primary, secondary and teritary enrollment, while Euro area and North America both feature the highest enrollment rates in tertiary, secondary and pre-primary. Meanwhile primary enrollment rates remain region invariant and is generally close to or above 100% across all regions. "
      ],
      "metadata": {
        "id": "mZtgC_hjphqO"
      }
    },
    {
      "cell_type": "markdown",
      "source": [
        "##### 3. Will the gained insights help creating a positive business impact? \n",
        "Are there any insights that lead to negative growth? Justify with specific reason."
      ],
      "metadata": {
        "id": "rFu4xreNphqO"
      }
    },
    {
      "cell_type": "markdown",
      "source": [
        "The chart highlights a need to allocate greater educational resources towards increasing enrollment rates in pre-primary, secondary and tertiary education while indicating potential sucess of increasing primary enrollment rates across regions to close to 100%. "
      ],
      "metadata": {
        "id": "ey_0qi68phqO"
      }
    },
    {
      "cell_type": "markdown",
      "source": [
        "#### Chart - 9 Area Chart of Gross enrollment ratio in primary, secondary and tertiary over 1970-2016"
      ],
      "metadata": {
        "id": "YJ55k-q6phqO"
      }
    },
    {
      "cell_type": "code",
      "source": [
        "pvt_tble = pd.pivot_table(df[(df['Indicator Name'].isin(['Gross enrolment ratio, primary, female (%)', 'Gross enrolment ratio, secondary, female (%)','Gross enrolment ratio, tertiary, female (%)']) ) & (df['Country Name'] == 'World')], columns = 'Indicator Name')"
      ],
      "metadata": {
        "id": "AEQJLaw_aBR1"
      },
      "execution_count": null,
      "outputs": []
    },
    {
      "cell_type": "code",
      "source": [
        "pvt_tble.plot.area()\n",
        "plt.xlabel('Year')\n",
        "plt.ylabel('Gross enrollment ratio, female (%)')\n",
        "plt.legend(bbox_to_anchor = (1,1), loc = 'upper left')"
      ],
      "metadata": {
        "id": "h52k4xUUkqgx"
      },
      "execution_count": null,
      "outputs": []
    },
    {
      "cell_type": "markdown",
      "source": [
        "##### 1. Why did you pick the specific chart?"
      ],
      "metadata": {
        "id": "gCFgpxoyphqP"
      }
    },
    {
      "cell_type": "markdown",
      "source": [
        "The chart visually displays the cumulative progression of female enrolment rates, showing the relative proportions of primary, secondary, and tertiary education levels. Observing the areas of the chart, policymakers can quickly identify periods of growth, decline, or stability in female enrolment across these levels."
      ],
      "metadata": {
        "id": "TVxDimi2phqP"
      }
    },
    {
      "cell_type": "markdown",
      "source": [
        "##### 2. What is/are the insight(s) found from the chart?"
      ],
      "metadata": {
        "id": "OVtJsKN_phqQ"
      }
    },
    {
      "cell_type": "markdown",
      "source": [
        "Gross enrollment ratio for females has overall increased over time across primary, secondary and tertiary education levels. Specifically, while primary education has the highest enrollment rates, with tertiary enrollment rates being the lowest, the growth in enrollment has been highest in teriary level, followed by secondary and then primary "
      ],
      "metadata": {
        "id": "ngGi97qjphqQ"
      }
    },
    {
      "cell_type": "markdown",
      "source": [
        "##### 3. Will the gained insights help creating a positive business impact? \n",
        "Are there any insights that lead to negative growth? Justify with specific reason."
      ],
      "metadata": {
        "id": "lssrdh5qphqQ"
      }
    },
    {
      "cell_type": "markdown",
      "source": [
        "The chart indicates greater overall focus and resouces should be placed now on improving secondary and tertiary enrollment rates so as to accelerate growth at these levels, and ensuring increase likelihood of transitioning across education levels."
      ],
      "metadata": {
        "id": "tBpY5ekJphqQ"
      }
    },
    {
      "cell_type": "markdown",
      "source": [
        "#### Chart - 10 Line Chart of Population Growth across regions between 1970-2016"
      ],
      "metadata": {
        "id": "U2RJ9gkRphqQ"
      }
    },
    {
      "cell_type": "code",
      "source": [
        "# Chart - 10 visualization code\n",
        "reg_pop_growth = df[(df['Indicator Name'] == 'Population growth (annual %)') & (df['Country Name'].isin(['East Asia & Pacific', 'Euro area', 'Europe & Central Asia','Latin America & Caribbean','Middle East & North Africa','North America','South Asia','Sub-Saharan Africa', 'World']))]\n",
        "\n",
        "pattern_line_plot = ['solid', 'dashed', 'dashdot']*3\n",
        "\n",
        "ig = plt.figure(figsize = (8,6))\n",
        "\n",
        "for reg, pat in list(zip(list(reg_pop_growth['Country Name'].unique()), pattern_line_plot)):\n",
        "  plt.plot(list(range(1970,2017)), reg_pop_growth[reg_pop_growth['Country Name'] == reg].iloc[:,2:].T, label = reg, ls = pat)\n",
        "\n",
        "plt.legend(bbox_to_anchor = (1,0.9))\n",
        "plt.title('Population growth from 1970 to 2014 across regions')\n",
        "plt.xlabel('Year')\n",
        "plt.ylabel('Population Growth %')\n",
        "plt.show()"
      ],
      "metadata": {
        "id": "GM7a4YP4phqQ"
      },
      "execution_count": null,
      "outputs": []
    },
    {
      "cell_type": "markdown",
      "source": [
        "##### 1. Why did you pick the specific chart?"
      ],
      "metadata": {
        "id": "1M8mcRywphqQ"
      }
    },
    {
      "cell_type": "markdown",
      "source": [
        "A line chart depicting population growth across regions between 1970 and 2016 in relation to education analysis is valuable for policymakers. It enables them to observe population trends alongside changes in educational needs and demands. By visualizing this chart, policymakers can identify regions experiencing rapid population growth and allocate educational resources accordingly. It helps in planning the expansion of educational infrastructure, ensuring access to education for growing populations, and addressing potential challenges such as overcrowded classrooms or insufficient educational facilities."
      ],
      "metadata": {
        "id": "8agQvks0phqQ"
      }
    },
    {
      "cell_type": "markdown",
      "source": [
        "##### 2. What is/are the insight(s) found from the chart?"
      ],
      "metadata": {
        "id": "tgIPom80phqQ"
      }
    },
    {
      "cell_type": "markdown",
      "source": [
        "Most regions except Sub-Saharan Africa show a declining population growth trend, with Sub-Saharan Africa depicting a flat population growth rate of more than 2.5%, which is the highest across all regions. Latin America, East Asia & Pacific & South Asia have shown significant decline in population growth rates across the period, while Europe & Central Asia, North America and the Euro Area have all had low but stable growth rates, with Euro Area and Europe & Central Asia being around 0.5% while North America being around 1% population growth."
      ],
      "metadata": {
        "id": "Qp13pnNzphqQ"
      }
    },
    {
      "cell_type": "markdown",
      "source": [
        "##### 3. Will the gained insights help creating a positive business impact? \n",
        "Are there any insights that lead to negative growth? Justify with specific reason."
      ],
      "metadata": {
        "id": "JMzcOPDDphqR"
      }
    },
    {
      "cell_type": "markdown",
      "source": [
        "The chart indicates greater strain on the future educational system in Sub-Saharan Africa due to greater population growth and highlights the need for policy makers to allocate greater educational resouces to maintain educational quality and enrollment rates in the future. Meanwhile, reduced growth rates in Asia indicate lower strain on resources in the future as fewer children would be enterning school, thereby allowing an improvement in overall quality of education."
      ],
      "metadata": {
        "id": "R4Ka1PC2phqR"
      }
    },
    {
      "cell_type": "markdown",
      "source": [
        "#### Chart - 11 Chloropleth map of Mortality rate under 5 (per 1,000)"
      ],
      "metadata": {
        "id": "x-EpHcCOp1ci"
      }
    },
    {
      "cell_type": "code",
      "source": [
        "# Chart - 11 visualization code\n",
        "mort_rat_2014 = map_df[map_df['Indicator Name'] == 'Mortality rate, under-5 (per 1,000)'].loc[:, ['Country Code', 'geometry','2016']].set_index('Country Code').rename(columns = {'2016': 'Mortality rate, under-5 (per 1,000)'})\n",
        "mort_rat_2014"
      ],
      "metadata": {
        "id": "mAQTIvtqp1cj"
      },
      "execution_count": null,
      "outputs": []
    },
    {
      "cell_type": "code",
      "source": [
        "countries = gpd.read_file(gpd.datasets.get_path(\"naturalearth_lowres\"))"
      ],
      "metadata": {
        "id": "9ZVsXN6e7QHx"
      },
      "execution_count": null,
      "outputs": []
    },
    {
      "cell_type": "code",
      "source": [
        "fig, ax = plt.subplots(1, figsize = (10,8))\n",
        "\n",
        "ax.axis('off')\n",
        "\n",
        "ax.set_title('Mortality rate, under-5 (per 1,000)')\n",
        "\n",
        "countries.plot(color = 'darkgrey', ax = ax)\n",
        "\n",
        "mort_rat_2014.plot(column = 'Mortality rate, under-5 (per 1,000)', cmap = 'cool', linewidth = 0.5, ax=ax, edgecolor = '0.2', legend = True )"
      ],
      "metadata": {
        "id": "N-ivyEHg7Q0Z"
      },
      "execution_count": null,
      "outputs": []
    },
    {
      "cell_type": "markdown",
      "source": [
        "##### 1. Why did you pick the specific chart?"
      ],
      "metadata": {
        "id": "X_VqEhTip1ck"
      }
    },
    {
      "cell_type": "markdown",
      "source": [
        "Visualizing this chart is crucial for policymakers in understanding the intersection between health and education. The map can highlight regions or countries with high mortality rates, indicating potential challenges in accessing quality healthcare and adequate educational resources. This information helps policymakers prioritize interventions, such as improving healthcare infrastructure, implementing health education programs, or targeting educational resources to regions with higher mortality rates. "
      ],
      "metadata": {
        "id": "-vsMzt_np1ck"
      }
    },
    {
      "cell_type": "markdown",
      "source": [
        "##### 2. What is/are the insight(s) found from the chart?"
      ],
      "metadata": {
        "id": "8zGJKyg5p1ck"
      }
    },
    {
      "cell_type": "markdown",
      "source": [
        "Sub-Saharan Africa and South-East Asia appear to have higher mortality rates compared to the rest of the world, with Sub-Saharan Africa having the highest rates overall (dark pink). In South-East Asia, Pakistan and Afghanistan struggle with high mortality rates relative to rest of their neighbhoring countries. In South America, Venezuela appears to have the highest infant mortality"
      ],
      "metadata": {
        "id": "ZYdMsrqVp1ck"
      }
    },
    {
      "cell_type": "markdown",
      "source": [
        "##### 3. Will the gained insights help creating a positive business impact? \n",
        "Are there any insights that lead to negative growth? Justify with specific reason."
      ],
      "metadata": {
        "id": "PVzmfK_Ep1ck"
      }
    },
    {
      "cell_type": "markdown",
      "source": [
        "High under-5 mortality rates indicate poor living standards and access to quality healthcare especially for infants. Poor health results in worse educational outcomes due to increased liklihood of severe sickness and lower overall resouces available to direct towards education"
      ],
      "metadata": {
        "id": "druuKYZpp1ck"
      }
    },
    {
      "cell_type": "markdown",
      "source": [
        "#### Chart - 12 Chloropleth map of 0-14 population (%)"
      ],
      "metadata": {
        "id": "n3dbpmDWp1ck"
      }
    },
    {
      "cell_type": "code",
      "source": [
        "# Chart - 12 visualization code\n",
        "enrol_num_2016 = map_df[map_df['Indicator Name'] == 'Population, ages 0-14 (% of total)'].loc[:, ['Country Code', 'geometry','2016']].set_index('Country Code').rename(columns = {'2016': 'Population, ages 0-14 (% of total)'})\n",
        "enrol_num_2016"
      ],
      "metadata": {
        "id": "bwevp1tKp1ck"
      },
      "execution_count": null,
      "outputs": []
    },
    {
      "cell_type": "code",
      "source": [
        "fig, ax = plt.subplots(1, figsize = (10,8))\n",
        "\n",
        "ax.axis('off')\n",
        "\n",
        "ax.set_title('Population, ages 0-14 (% of total)')\n",
        "\n",
        "countries.plot(color = 'darkgrey', ax = ax)\n",
        "\n",
        "enrol_num_2016.plot(column = 'Population, ages 0-14 (% of total)', cmap = 'cool', linewidth = 0.5, ax=ax, edgecolor = '0.2', legend = True )"
      ],
      "metadata": {
        "id": "5lrqWn2qK38v"
      },
      "execution_count": null,
      "outputs": []
    },
    {
      "cell_type": "markdown",
      "source": [
        "##### 1. Why did you pick the specific chart?"
      ],
      "metadata": {
        "id": "ylSl6qgtp1ck"
      }
    },
    {
      "cell_type": "markdown",
      "source": [
        "To better viusalize the regions where 0-14 population percentage is highest to highlight areas that require potentially more resources to fund quality primary education"
      ],
      "metadata": {
        "id": "m2xqNkiQp1ck"
      }
    },
    {
      "cell_type": "markdown",
      "source": [
        "##### 2. What is/are the insight(s) found from the chart?"
      ],
      "metadata": {
        "id": "ZWILFDl5p1ck"
      }
    },
    {
      "cell_type": "markdown",
      "source": [
        "Sub-Saharan Africa as a region overall features the highest percentage of 0-14 population across all other regions (several bright pink countries), indicating increased rqueirement for educational resources in the compared to other areas of the world to maintain educational quality. Some areas in the Middle-East and South-East Asia (Afghanistan and Pakistan) also feature reltively high growth rates, although lower than Sub-Saharan Africa. South America and Mexico also have around 30%-35% population in the 0-14 age range, although the percentage is significantly lower than Sub-Saharan Africa. Areas such as Europe, Austrailia, U.S., Canada and Russia generally show low percentage population (20-15%) in the 0-14 age range. "
      ],
      "metadata": {
        "id": "x-lUsV2mp1ck"
      }
    },
    {
      "cell_type": "markdown",
      "source": [
        "##### 3. Will the gained insights help creating a positive business impact? \n",
        "Are there any insights that lead to negative growth? Justify with specific reason."
      ],
      "metadata": {
        "id": "M7G43BXep1ck"
      }
    },
    {
      "cell_type": "markdown",
      "source": [
        "This chart helps policy makers identify countries where the 0-14 population growth is high and thus allows for better planning and forecasting of education needs based on country and region. Specifically, areas of Sub-Saharan Africa, South Asia and Middle East are in extreme need to increase their allocation towards primary education in order to accomadate increased population of incoming school children and maintain education quality. For countries with low 0-14 population percentage a different problem arises, which is that of too few people that will be coming to replace the current workforce, potentially harming future economic prosperity and growth"
      ],
      "metadata": {
        "id": "5wwDJXsLp1cl"
      }
    },
    {
      "cell_type": "markdown",
      "source": [
        "#### Chart - 13 Chloropleth map of 15-64 population (% of total)"
      ],
      "metadata": {
        "id": "Ag9LCva-p1cl"
      }
    },
    {
      "cell_type": "code",
      "source": [
        "# Chart - 13 visualization code\n",
        "enrol_num_2016 = map_df[map_df['Indicator Name'] == 'Population, ages 15-64 (% of total)'].loc[:, ['Country Code', 'geometry','2016']].set_index('Country Code').rename(columns = {'2016': 'Population, ages 15-64 (% of total)'})\n",
        "enrol_num_2016"
      ],
      "metadata": {
        "id": "EUfxeq9-p1cl"
      },
      "execution_count": null,
      "outputs": []
    },
    {
      "cell_type": "code",
      "source": [
        "fig, ax = plt.subplots(1, figsize = (10,8))\n",
        "\n",
        "ax.axis('off')\n",
        "\n",
        "ax.set_title('Population, ages 15-64 (% of total)')\n",
        "\n",
        "countries.plot(color = 'darkgrey', ax = ax)\n",
        "\n",
        "enrol_num_2016.plot(column = 'Population, ages 15-64 (% of total)', cmap = 'cool', linewidth = 0.5, ax=ax, edgecolor = '0.2', legend = True )"
      ],
      "metadata": {
        "id": "cvGWSfaRdirt"
      },
      "execution_count": null,
      "outputs": []
    },
    {
      "cell_type": "markdown",
      "source": [
        "##### 1. Why did you pick the specific chart?"
      ],
      "metadata": {
        "id": "E6MkPsBcp1cl"
      }
    },
    {
      "cell_type": "markdown",
      "source": [
        "A high 15-64 percentage population indicates that the working age population is higher in these countries, indicating a greater emphasis for teritary education (universities, technical and vocational institues) to allow for up-skilling of labour force.Visualizing the 15-64 population (% of total) on a choropleth map alongside educational indicators enables policymakers to identify areas with a high concentration of working-age individuals but limited educational opportunities or lower educational attainment. This information can inform targeted interventions aimed at improving access to quality education, enhancing skill development programs, promoting adult education initiatives, and reducing educational disparities among different regions. "
      ],
      "metadata": {
        "id": "V22bRsFWp1cl"
      }
    },
    {
      "cell_type": "markdown",
      "source": [
        "##### 2. What is/are the insight(s) found from the chart?"
      ],
      "metadata": {
        "id": "2cELzS2fp1cl"
      }
    },
    {
      "cell_type": "markdown",
      "source": [
        "Sub-Saharan Africa features the lowest 15-64 percentage population across all regions (light blue) indicating a lower working age population. Areas in South-East Asia such as Afghanistan and Pakistan also feature lower percentage population across the 15-64 age range. Places such as China, Brazil, Saudi Arabia and Iran feature tha highest percentage population of the 15-64 age range (bright pink)."
      ],
      "metadata": {
        "id": "ozQPc2_Ip1cl"
      }
    },
    {
      "cell_type": "markdown",
      "source": [
        "##### 3. Will the gained insights help creating a positive business impact? \n",
        "Are there any insights that lead to negative growth? Justify with specific reason."
      ],
      "metadata": {
        "id": "3MPXvC8up1cl"
      }
    },
    {
      "cell_type": "markdown",
      "source": [
        "Areas in Sub-Saharan Africa and Asia that have low 15-64 age percentage population are likely to need more aid in order to sustain educational activity, as well as focusing educational resources on mainly primary and secondary education. On the other hand, areas with high 15-64 percentage population require greater resouces directed towards teritary education so as to provide greater upskilling and vocational opportunities."
      ],
      "metadata": {
        "id": "GL8l1tdLp1cl"
      }
    },
    {
      "cell_type": "markdown",
      "source": [
        "#### Chart - 14 - Correlation Heatmap of gross enrollment rate primary, secondary, teritary, population percentage (0-14), population percentage (15-64), GDP per capita (constant 2005 US$), Mortality rate under 5 (per 1,000) of the World "
      ],
      "metadata": {
        "id": "NC_X3p0fY2L0"
      }
    },
    {
      "cell_type": "code",
      "source": [
        "list_a = ['Indicator Name']\n",
        "list_b = list(map(str,list(range(1970,2017))))\n",
        "list_a.extend(list_b)\n",
        "list_a"
      ],
      "metadata": {
        "id": "py2Hxx-wtQjm"
      },
      "execution_count": null,
      "outputs": []
    },
    {
      "cell_type": "code",
      "source": [
        "# Correlation Heatmap visualization code\n",
        "stcked_plt = df[df['Indicator Name'].isin(['Population, ages 0-14 (% of total)', 'Population, ages 15-64 (% of total)', 'Population growth (annual %)', 'Gross enrolment ratio, pre-primary, both sexes (%)','Gross enrolment ratio, primary, both sexes (%)','Gross enrolment ratio, secondary, both sexes (%)','Gross enrolment ratio, tertiary, both sexes (%)', 'Gross enrolment ratio, primary, male (%)', 'Gross enrolment ratio, primary, female (%)','GDP per capita (current US$)']) & (df['Country Name'] == 'World')][list_a]\n",
        "\n",
        "pvt_tbl = pd.pivot_table(stcked_plt, columns = 'Indicator Name')\n",
        "sns.heatmap(pvt_tbl.corr(), \n",
        "    vmin=-1, vmax=1, center=0,\n",
        "    cmap=sns.diverging_palette(20, 220, n=200),\n",
        "    square=True)"
      ],
      "metadata": {
        "id": "xyC9zolEZNRQ"
      },
      "execution_count": null,
      "outputs": []
    },
    {
      "cell_type": "markdown",
      "source": [
        "##### 1. Why did you pick the specific chart?"
      ],
      "metadata": {
        "id": "UV0SzAkaZNRQ"
      }
    },
    {
      "cell_type": "markdown",
      "source": [
        "To show the correlations of key variables that I have visualized in my EDA to uncover the potential relationships between them "
      ],
      "metadata": {
        "id": "DVPuT8LYZNRQ"
      }
    },
    {
      "cell_type": "markdown",
      "source": [
        "##### 2. What is/are the insight(s) found from the chart?"
      ],
      "metadata": {
        "id": "YPEH6qLeZNRQ"
      }
    },
    {
      "cell_type": "markdown",
      "source": [
        "most variables seem to be highly positively or negatively correlated with the exception of gross enrollment ratio, primary, male (%) which shows overall very weak positive or no correlation with the variables examined. Population growth (annual %) and population, ages 0-14 (% of total) show strong negative correlation with all variables examined except gross enrollment ratio, primary male (no correlation), and each other (strong positive correlation). All other variables show strong positive correlation with each other."
      ],
      "metadata": {
        "id": "bfSqtnDqZNRR"
      }
    },
    {
      "cell_type": "markdown",
      "source": [
        "#### Chart - 15 - Pair plot of gross enrollment rate primary, secondary, teritary, population percentage (0-14), population percentage (15-64), GDP per capita (constant 2005 US$), Mortality rate under 5 (per 1,000) of the World"
      ],
      "metadata": {
        "id": "q29F0dvdveiT"
      }
    },
    {
      "cell_type": "code",
      "source": [
        "# Pair Plot visualization code\n",
        "sns.pairplot(pvt_tbl)"
      ],
      "metadata": {
        "id": "o58-TEIhveiU"
      },
      "execution_count": null,
      "outputs": []
    },
    {
      "cell_type": "markdown",
      "source": [
        "##### 1. Why did you pick the specific chart?"
      ],
      "metadata": {
        "id": "EXh0U9oCveiU"
      }
    },
    {
      "cell_type": "markdown",
      "source": [
        "The pairplot of gross enrollment rates for primary, secondary, and tertiary education, population percentages (0-14 and 15-64), GDP per capita, and mortality rate under 5 allows policymakers to explore complex interactions between education, demographics, economy, and health. By visualizing these variables together, patterns, correlations, and nonlinear relationships can be observed. This aids in understanding the role of education in economic development, the impact of demographics on education access, and the relationship between health outcomes and education. "
      ],
      "metadata": {
        "id": "eMmPjTByveiU"
      }
    },
    {
      "cell_type": "markdown",
      "source": [
        "##### 2. What is/are the insight(s) found from the chart?"
      ],
      "metadata": {
        "id": "22aHeOlLveiV"
      }
    },
    {
      "cell_type": "markdown",
      "source": [
        "most variables seem to be highly positively or negatively correlated with the exception of gross enrollment ratio, primary, male (%) which shows overall very weak positive or no correlation with the variables examined. Population growth (annual %) and population, ages 0-14 (% of total) show strong negative correlation with all variables examined except gross enrollment ratio, primary male (no correlation), and each other (strong positive correlation). All other variables show strong positive correlation with each other. Gross enrollment ratio, primary, male (%) has a left skew distribution, while gross enrollment ratio, secondary and tertiary, have a right skew. Other variables seem to be largely normally distributed although more data is required\n",
        "\n"
      ],
      "metadata": {
        "id": "uPQ8RGwHveiV"
      }
    },
    {
      "cell_type": "markdown",
      "source": [
        "## **5. Solution to Business Objective**"
      ],
      "metadata": {
        "id": "JcMwzZxoAimU"
      }
    },
    {
      "cell_type": "markdown",
      "source": [
        "#### What do you suggest the client to achieve Business Objective ? \n",
        "Explain Briefly."
      ],
      "metadata": {
        "id": "8G2x9gOozGDZ"
      }
    },
    {
      "cell_type": "markdown",
      "source": [
        "1.  To allocate greater educational resources with a focus on primary education to countries with high population growth rate, high population percentage of 0-14 age range and low gdp per capita. These regions are the Sub-Saharan African region and some countries within South-Asia such as Pakistan and Afghanistan. \n",
        "\n",
        "2.  To increase vocational and tertiary enrollment across countries, especially female enrollment, across all countries so as to upskill and reskill them for the future job market, especially in those countries where population percentage of 15-64 age adults is large (such as China and Brazil) to mitigate the impact of structural unemployment. \n",
        "\n",
        "3.   Increase access to healthcare so as to mitigate under-5 mortality in countries which would positively impact enrollment rates as seen by their positive correlation.\n",
        "\n",
        "4.  Shift focus from increasing primary enrollment rates (already at 100% enrollment across regions) to secondary and tertiary enrollment."
      ],
      "metadata": {
        "id": "pASKb0qOza21"
      }
    },
    {
      "cell_type": "markdown",
      "source": [
        "# **Conclusion**"
      ],
      "metadata": {
        "id": "gCX9965dhzqZ"
      }
    },
    {
      "cell_type": "markdown",
      "source": [
        "The analyzed visualizations offer valuable insights for policy decisions in education. The pair plot and correlation heatmap show positive relationships between gross enrollment rates, GDP per capita, and demographic factors. Chloropleth maps of population distribution, mortality rates, and age groups help identify regions with specific needs. The line chart of population growth aids in anticipating future educational requirements. Area and clustered bar charts highlight progress and disparities in enrollment rates across regions. The bubble chart reveals the relationship between GDP per capita, enrollment rates, and population size. Gender disparities in enrollment are depicted in a line chart. Overall, these visualizations provide policymakers with evidence-based information to allocate resources, address inequalities, and design effective education policies."
      ],
      "metadata": {
        "id": "Fjb1IsQkh3yE"
      }
    },
    {
      "cell_type": "markdown",
      "source": [
        "### ***Hurrah! You have successfully completed your EDA Capstone Project !!!***"
      ],
      "metadata": {
        "id": "gIfDvo9L0UH2"
      }
    }
  ]
}